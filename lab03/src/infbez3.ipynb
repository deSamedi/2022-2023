{
  "nbformat": 4,
  "nbformat_minor": 0,
  "metadata": {
    "colab": {
      "provenance": []
    },
    "kernelspec": {
      "name": "python3",
      "display_name": "Python 3"
    },
    "language_info": {
      "name": "python"
    }
  },
  "cells": [
    {
      "cell_type": "code",
      "execution_count": 1,
      "metadata": {
        "id": "4R0eBLuTZEUF"
      },
      "outputs": [],
      "source": [
        "def form_dict():\n",
        "  d = {}\n",
        "  iter = 0 \n",
        "  for i in range(97,123):\n",
        "    d[iter] = chr(i)\n",
        "    iter += 1\n",
        "  return d"
      ]
    },
    {
      "cell_type": "code",
      "source": [
        "def encrypt(text, gamma):\n",
        "  textLen = len(text)\n",
        "  gammaLen = len(gamma)\n",
        "\n",
        "  keyText = ''\n",
        "\n",
        "  for i in range(textLen // gammaLen):\n",
        "    for letter in gamma:\n",
        "      keyText += letter\n",
        "  for i in range(textLen % gammaLen):\n",
        "    keyText+=gamma[i]\n",
        "\n",
        "  code = ''\n",
        "  for i in range(textLen):\n",
        "    code += d[(d_swap[text[i]] + d_swap[keyText[i]]) % 26]\n",
        "\n",
        "  print(f'Исходный текст {text}, гамма {gamma}, зашифрованный текст {code}')"
      ],
      "metadata": {
        "id": "FFA05QQCZa4N"
      },
      "execution_count": 24,
      "outputs": []
    },
    {
      "cell_type": "code",
      "source": [
        "test1 = 'hello'\n",
        "test2 = 'world'\n",
        "\n",
        "encrypt(test1, 'abc')\n",
        "encrypt(test1, 'xyz')\n",
        "encrypt(test2, 'abc')\n",
        "encrypt(test2, 'xyz')"
      ],
      "metadata": {
        "colab": {
          "base_uri": "https://localhost:8080/"
        },
        "id": "LhE0SXjcabVJ",
        "outputId": "fb7c8d66-0660-4ca0-d728-ad6dd505e173"
      },
      "execution_count": 25,
      "outputs": [
        {
          "output_type": "stream",
          "name": "stdout",
          "text": [
            "Исходный текст hello, гамма abc, зашифрованный текст hfnlp\n",
            "Исходный текст hello, гамма xyz, зашифрованный текст eckim\n",
            "Исходный текст world, гамма abc, зашифрованный текст wptle\n",
            "Исходный текст world, гамма xyz, зашифрованный текст tmqib\n"
          ]
        }
      ]
    }
  ]
}