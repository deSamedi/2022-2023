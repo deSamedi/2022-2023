{
  "nbformat": 4,
  "nbformat_minor": 0,
  "metadata": {
    "colab": {
      "provenance": []
    },
    "kernelspec": {
      "name": "python3",
      "display_name": "Python 3"
    },
    "language_info": {
      "name": "python"
    }
  },
  "cells": [
    {
      "cell_type": "code",
      "source": [
        "def euclid_bin(a,b):\n",
        "  g = 1\n",
        "  while a%2==0 and b%2==0:\n",
        "    a = a/2\n",
        "    b = b/2\n",
        "    g = 2*g\n",
        "\n",
        "  u = a\n",
        "  v = b\n",
        "  while u!=0:\n",
        "    if u%2==0:\n",
        "      u=u/2\n",
        "    if v%2==0:\n",
        "      v=v/2\n",
        "    if u>=v:\n",
        "      u = u-v\n",
        "    else:\n",
        "      v = v-u\n",
        "  return g*v"
      ],
      "metadata": {
        "id": "6thzS8F6TuZS"
      },
      "execution_count": null,
      "outputs": []
    },
    {
      "cell_type": "code",
      "execution_count": null,
      "metadata": {
        "id": "N__Mpr6OSg8n"
      },
      "outputs": [],
      "source": [
        "def pollard(n, c, f):\n",
        "  a = c\n",
        "  b = c\n",
        "  d = 1\n",
        "  while d==1:\n",
        "    a = f(a)%n\n",
        "    b = f(f(b))%n\n",
        "    d = euclid_bin(abs(a-b),n)\n",
        "    print(f'a={a}, b={b}, d={d}')\n",
        "    if 1<d<n:\n",
        "      p = d\n",
        "      return p\n",
        "    elif d==n:\n",
        "      print('Делитель не найден')\n"
      ]
    },
    {
      "cell_type": "code",
      "source": [
        "def test_f(x):\n",
        "  return x**2+5%1359331"
      ],
      "metadata": {
        "id": "FBmZoVz7TTmR"
      },
      "execution_count": null,
      "outputs": []
    },
    {
      "cell_type": "code",
      "source": [
        "pollard(1359331, 1, test_f)"
      ],
      "metadata": {
        "colab": {
          "base_uri": "https://localhost:8080/"
        },
        "id": "8h8MokeTVOb-",
        "outputId": "dfa03bd7-b7d7-462f-bc9d-2ccea5d1336c"
      },
      "execution_count": null,
      "outputs": [
        {
          "output_type": "stream",
          "name": "stdout",
          "text": [
            "a=6, b=41, d=1.0\n",
            "a=41, b=123939, d=1.0\n",
            "a=1686, b=391594, d=1.0\n",
            "a=123939, b=438157, d=1.0\n",
            "a=435426, b=582738, d=1.0\n",
            "a=391594, b=1144026, d=1.0\n",
            "a=1090062, b=885749, d=1181.0\n"
          ]
        },
        {
          "output_type": "execute_result",
          "data": {
            "text/plain": [
              "1181.0"
            ]
          },
          "metadata": {},
          "execution_count": 37
        }
      ]
    },
    {
      "cell_type": "code",
      "source": [
        "euclid_bin(35,1359331)"
      ],
      "metadata": {
        "colab": {
          "base_uri": "https://localhost:8080/"
        },
        "id": "lPl58pvmYWap",
        "outputId": "5a69797c-0cfc-47bd-b9f3-cf7a9f878d23"
      },
      "execution_count": null,
      "outputs": [
        {
          "output_type": "execute_result",
          "data": {
            "text/plain": [
              "1.0"
            ]
          },
          "metadata": {},
          "execution_count": 35
        }
      ]
    }
  ]
}