{
  "nbformat": 4,
  "nbformat_minor": 0,
  "metadata": {
    "colab": {
      "provenance": []
    },
    "kernelspec": {
      "name": "python3",
      "display_name": "Python 3"
    },
    "language_info": {
      "name": "python"
    }
  },
  "cells": [
    {
      "cell_type": "code",
      "source": [
        "import sys\n",
        "\n",
        "def ext_euclid(a, b):\n",
        "    if b == 0:\n",
        "        return a, 1, 0\n",
        "    else:\n",
        "        d, xx, yy = ext_euclid(b, a % b)\n",
        "        x = yy\n",
        "        y = xx - (a / b) * yy\n",
        "        return d, x, y\n",
        "\n",
        "\n",
        "def inverse(a, n):\n",
        "    return ext_euclid(a, n)[1]\n",
        "\n",
        "\n",
        "def xab(x, a, b, G, H, P, Q):\n",
        "    sub = x % 3 # Subsets\n",
        "\n",
        "    if sub == 0:\n",
        "        x = x*G % P\n",
        "        a = (a+1) % Q\n",
        "\n",
        "    if sub == 1:\n",
        "        x = x * H % P\n",
        "        b = (b + 1) % Q\n",
        "\n",
        "    if sub == 2:\n",
        "        x = x*x % P\n",
        "        a = a*2 % Q\n",
        "        b = b*2 % Q\n",
        "\n",
        "    return x, a, b\n",
        "\n",
        "\n",
        "def pollard(G, H, P):\n",
        "    Q = (P - 1) / 2 \n",
        "\n",
        "\n",
        "    x = G*H\n",
        "    a = 1\n",
        "    b = 1\n",
        "\n",
        "    X = x\n",
        "    A = int(a)\n",
        "    B = int(b)\n",
        "\n",
        "    for i in range(1, P):\n",
        "        x, a, b = xab(x, a, b, G, H, P, Q)\n",
        "        X, A, B = xab(X, A, B, G, H, P, Q)\n",
        "        X, A, B = xab(X, A, B, G, H, P, Q)\n",
        "\n",
        "        if x == X:\n",
        "            break\n",
        "\n",
        "\n",
        "    nom = int(a-A)\n",
        "    denom = int(B-b)\n",
        "\n",
        "    print (nom, denom)\n",
        "\n",
        "    res = (inverse(denom, int(Q) * nom) % int(Q))\n",
        "\n",
        "    if verify(G, H, P, res):\n",
        "        return res\n",
        "\n",
        "    return int(res + Q)\n",
        "\n",
        "\n",
        "def verify(g, h, p, x):\n",
        "    return pow(int(g), int(x), p) == h\n",
        "\n",
        "g=int(64)\n",
        "h=int(10)\n",
        "p=int(107)\n",
        "\n",
        "\n",
        "print (\"g =\",g)\n",
        "print (\"h =\",h)\n",
        "print (\"p =\",p)\n",
        "\n",
        "\n",
        "\n",
        "\n",
        "print (h,\"=\",g,\"^x (mod\",p,\")\")\n",
        "print (\"\\n==============\")\n",
        "\n",
        "x = int(pollard(g,h,p))\n",
        "print (\"Solution x=\",x)\n",
        "print (\"Solution:\",verify(g, h, p, x))"
      ],
      "metadata": {
        "id": "R0JBcGeOEGiz",
        "colab": {
          "base_uri": "https://localhost:8080/"
        },
        "outputId": "a5beafb9-e915-47fa-b866-78f01f98cc67"
      },
      "execution_count": 18,
      "outputs": [
        {
          "output_type": "stream",
          "name": "stdout",
          "text": [
            "g = 64\n",
            "h = 10\n",
            "p = 107\n",
            "10 = 64 ^x (mod 107 )\n",
            "\n",
            "==============\n",
            "16 2\n",
            "Solution x= 54\n",
            "Solution: False\n"
          ]
        }
      ]
    }
  ]
}