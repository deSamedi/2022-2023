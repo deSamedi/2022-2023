{
  "nbformat": 4,
  "nbformat_minor": 0,
  "metadata": {
    "colab": {
      "provenance": []
    },
    "kernelspec": {
      "name": "python3",
      "display_name": "Python 3"
    },
    "language_info": {
      "name": "python"
    }
  },
  "cells": [
    {
      "cell_type": "markdown",
      "source": [
        "# 1. Маршрутное шифрование"
      ],
      "metadata": {
        "id": "0nkiRpAhQx_0"
      }
    },
    {
      "cell_type": "code",
      "execution_count": null,
      "metadata": {
        "id": "zTQPxi1NLG6e"
      },
      "outputs": [],
      "source": [
        "def split(text, lenght):\n",
        "  return [text[i:i+lenght] for i in range(0, len(text), lenght)]"
      ]
    },
    {
      "cell_type": "code",
      "source": [
        "def cipher(text, password):\n",
        "  order = {\n",
        "      val : num for num, val in enumerate(sorted(password))\n",
        "  }\n",
        "  password_order = {\n",
        "      val : num for num, val in enumerate(password)\n",
        "  }\n",
        "  ciphertext = ''\n",
        "  for letter in order.keys():\n",
        "    for part in split(text, len(password)):\n",
        "      try:\n",
        "        ciphertext+=part[password_order[letter]]\n",
        "      except:\n",
        "        continue\n",
        "  return ciphertext"
      ],
      "metadata": {
        "id": "8mx2LbBbMPbc"
      },
      "execution_count": null,
      "outputs": []
    },
    {
      "cell_type": "markdown",
      "source": [
        "#2. Шифрование с помощью решеток"
      ],
      "metadata": {
        "id": "b1NJZ_oWlEBp"
      }
    },
    {
      "cell_type": "code",
      "source": [
        "from math import *\n",
        "import numpy as np\n",
        "from os import *\n",
        "\n",
        "a = list(input(\"Enter key: \"))\n",
        "b = list(input(\"Enter message: \"))\n",
        "\n",
        "\n",
        "lenKY=ceil(sqrt(len(a)))\n",
        "lenpt=ceil(sqrt(len(b)))\n"
      ],
      "metadata": {
        "colab": {
          "base_uri": "https://localhost:8080/"
        },
        "id": "eSfE25zelKkF",
        "outputId": "9b8b41b2-4863-439e-a811-8f09f9039f4e"
      },
      "execution_count": null,
      "outputs": [
        {
          "name": "stdout",
          "output_type": "stream",
          "text": [
            "Enter key: key\n",
            "Enter message: hello\n"
          ]
        }
      ]
    },
    {
      "cell_type": "code",
      "source": [
        "def matcal(lengthkey,lenplain, ceilky):\n",
        "    column = 0 \n",
        "    if(lenplain%2==0):\n",
        "        column = lenplain/ceilky;\n",
        "        return int(ceil(column))\n",
        "    else:\n",
        "    \n",
        "        lenplain+=1;\n",
        "        column = lenplain/ceilky;\n",
        "    return int(column)"
      ],
      "metadata": {
        "id": "byHE2r24mEzE"
      },
      "execution_count": null,
      "outputs": []
    },
    {
      "cell_type": "code",
      "source": [
        "column1 = matcal(len(a),len(b),lenKY)\n",
        "\n",
        "\n",
        "km = [[0]*lenKY for i in range(lenKY)]\n",
        "ptm = [[0]*column1 for i  in range(lenKY)]\n",
        "cpm = [[0]*column1 for i in range(lenKY)]\n",
        "\n",
        "z=97\n",
        "\n",
        "for i in range(lenKY*lenKY):\n",
        "    if((lenKY*lenKY)!=len(a)):\n",
        "        a.append(chr(z))\n",
        "        z=z+1\n",
        "\n",
        "def getkeymatrix(key):\n",
        "    k = 0;\n",
        "    for i in range(lenKY):\n",
        "        for j in range(lenKY):\n",
        "            km[i][j] = ord(a[k])%97\n",
        "            k+=1\n",
        "  \n",
        "#Generate Cipher Matrix\n",
        "def encrypt(plaintext):\n",
        "    for i in range(lenKY):\n",
        "        for j in range(column1):\n",
        "            cpm[i][j] = 0\n",
        "            for x in range(lenKY): \n",
        "                cpm[i][j] += (km[i][x] * ptm[x][j]) \n",
        "            cpm[i][j] = cpm[i][j] %26\n",
        "    return cpm"
      ],
      "metadata": {
        "id": "vQp3h3z9mHxV"
      },
      "execution_count": null,
      "outputs": []
    },
    {
      "cell_type": "code",
      "source": [
        "def GrillCipher(message, key): \n",
        "    getkeymatrix(a) \n",
        "    mat_b=ptm\n",
        "    for i in range(len(b)):\n",
        "        mat_b[i%lenKY][floor(i/lenKY)] = ord(b[i]) % 97\n",
        "    cpm = encrypt(ptm)\n",
        "    cpt = []\n",
        "    for i in range(column1):\n",
        "        for j in range(lenKY):\n",
        "            cpt.append(chr(cpm[j][i] + 97)) \n",
        "\n",
        "    print(\"Ciphertext: \", \"\".join(cpt))"
      ],
      "metadata": {
        "id": "fMP1dos4mO7z"
      },
      "execution_count": null,
      "outputs": []
    },
    {
      "cell_type": "markdown",
      "source": [
        "# 3. таблица Виженера"
      ],
      "metadata": {
        "id": "DyKDPdQkQzSR"
      }
    },
    {
      "cell_type": "code",
      "source": [
        "test2 = 'hello'\n",
        "key = 'key'"
      ],
      "metadata": {
        "id": "yCTT6WjLhHdV"
      },
      "execution_count": null,
      "outputs": []
    },
    {
      "cell_type": "code",
      "source": [
        "def form_dict():\n",
        "  d = {}\n",
        "  iter = 0 \n",
        "  for i in range(97,123):\n",
        "    d[iter] = chr(i)\n",
        "    iter += 1\n",
        "  return d"
      ],
      "metadata": {
        "id": "8fPO964UePFQ"
      },
      "execution_count": null,
      "outputs": []
    },
    {
      "cell_type": "code",
      "source": [
        "def encode_val(text):\n",
        "  list_code = []\n",
        "  l = len(text)\n",
        "  d = form_dict()\n",
        "\n",
        "  for i in range(l):\n",
        "    for value in d:\n",
        "      if text[i] == d[value]:\n",
        "        list_code.append(value)\n",
        "  return list_code"
      ],
      "metadata": {
        "id": "yJzLRCzDeyO7"
      },
      "execution_count": null,
      "outputs": []
    },
    {
      "cell_type": "code",
      "source": [
        "def comparator(value, key):\n",
        "  len_key = len(key)\n",
        "  dic = {}\n",
        "  iter = 0\n",
        "  full = 0\n",
        "\n",
        "  for i in value:\n",
        "    dic[full] = [i,key[iter]]\n",
        "    full +=1\n",
        "    iter +=1\n",
        "    if iter>=len_key:\n",
        "      iter=0\n",
        "  return dic"
      ],
      "metadata": {
        "id": "KYyNV346ga8-"
      },
      "execution_count": null,
      "outputs": []
    },
    {
      "cell_type": "code",
      "source": [
        "def Vig_cipher(value, key):\n",
        "  dic = comparator(value, key)\n",
        "  d = form_dict()\n",
        "  l = ''\n",
        "  for i in dic:\n",
        "    l+=(d[(dic[i][0]+dic[i][1])%len(d)])\n",
        "  return l"
      ],
      "metadata": {
        "id": "t1yXfbCjgItP"
      },
      "execution_count": null,
      "outputs": []
    },
    {
      "cell_type": "markdown",
      "source": [
        "# Тесты"
      ],
      "metadata": {
        "id": "R3qDZYA8oyJR"
      }
    },
    {
      "cell_type": "code",
      "source": [
        "cipher('нельзянедооцениватьпротивникаа','пароль')"
      ],
      "metadata": {
        "colab": {
          "base_uri": "https://localhost:8080/",
          "height": 35
        },
        "id": "XS1EJEVuNdMk",
        "outputId": "a37b5f04-4109-46aa-ab32-e4dfc59c7ff8"
      },
      "execution_count": null,
      "outputs": [
        {
          "output_type": "execute_result",
          "data": {
            "text/plain": [
              "'еенпнзоатаьовокннеьвлдирияцтиа'"
            ],
            "application/vnd.google.colaboratory.intrinsic+json": {
              "type": "string"
            }
          },
          "metadata": {},
          "execution_count": 108
        }
      ]
    },
    {
      "cell_type": "code",
      "source": [
        "Vig_cipher(encode_val('hello'), encode_val('key'))"
      ],
      "metadata": {
        "colab": {
          "base_uri": "https://localhost:8080/",
          "height": 35
        },
        "id": "FgEZ-FFgh7LI",
        "outputId": "a60b9f3a-3959-4994-c62e-301ce13e6f02"
      },
      "execution_count": null,
      "outputs": [
        {
          "output_type": "execute_result",
          "data": {
            "text/plain": [
              "'rijvs'"
            ],
            "application/vnd.google.colaboratory.intrinsic+json": {
              "type": "string"
            }
          },
          "metadata": {},
          "execution_count": 109
        }
      ]
    },
    {
      "cell_type": "code",
      "source": [
        "GrillCipher('hello', 'key')"
      ],
      "metadata": {
        "colab": {
          "base_uri": "https://localhost:8080/"
        },
        "id": "SEYxVkqwpDCf",
        "outputId": "4875c8bf-b51a-487b-b269-7e55d82706bf"
      },
      "execution_count": null,
      "outputs": [
        {
          "output_type": "stream",
          "name": "stdout",
          "text": [
            "Ciphertext:  imyeky\n"
          ]
        }
      ]
    }
  ]
}