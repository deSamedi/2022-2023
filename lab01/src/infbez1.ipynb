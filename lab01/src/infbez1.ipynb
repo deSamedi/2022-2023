{
  "nbformat": 4,
  "nbformat_minor": 0,
  "metadata": {
    "colab": {
      "provenance": []
    },
    "kernelspec": {
      "name": "python3",
      "display_name": "Python 3"
    },
    "language_info": {
      "name": "python"
    }
  },
  "cells": [
    {
      "cell_type": "code",
      "source": [
        "def caesar_chipper(text, k):\n",
        "  result = ''\n",
        "  for letter in text:\n",
        "    if not(letter.isalpha()):\n",
        "      result+=letter\n",
        "    else:\n",
        "      if letter.isupper():\n",
        "        result+=(chr((ord(letter)+k-65)%26+65))\n",
        "      else:\n",
        "        result+=(chr((ord(letter)+k-97)%26+97))\n",
        "  return result"
      ],
      "metadata": {
        "id": "mcLWWUdHP9Nb"
      },
      "execution_count": null,
      "outputs": []
    },
    {
      "cell_type": "code",
      "source": [
        "def caesar_dechipper(text, k):\n",
        "  result = ''\n",
        "  for letter in text:\n",
        "    if not(letter.isalpha()):\n",
        "      result+=letter\n",
        "    else:\n",
        "      if letter.isupper():\n",
        "        result+=(chr((ord(letter)-k-65)%26+65))\n",
        "      else:\n",
        "        result+=(chr((ord(letter)-k-97)%26+97))\n",
        "  return result"
      ],
      "metadata": {
        "id": "ME3ZR7kSSB5z"
      },
      "execution_count": null,
      "outputs": []
    },
    {
      "cell_type": "code",
      "source": [
        "def atbash(text):\n",
        "  result = ''\n",
        "  for letter in text:\n",
        "    if not(letter.isalpha()):\n",
        "      result+=letter\n",
        "    else:\n",
        "      if letter.isupper():\n",
        "        result+=chr(65+90-ord(letter))\n",
        "      else:\n",
        "        result+=chr(97+122-ord(letter))\n",
        "  return result"
      ],
      "metadata": {
        "id": "B0BhzAxgSbIG"
      },
      "execution_count": null,
      "outputs": []
    },
    {
      "cell_type": "code",
      "source": [
        "print(caesar_dechipper(caesar_chipper('test string',3),3))"
      ],
      "metadata": {
        "colab": {
          "base_uri": "https://localhost:8080/"
        },
        "id": "8WHgw0KLR_Cj",
        "outputId": "9a7c6769-6946-4135-f545-aa58e36ff76a"
      },
      "execution_count": null,
      "outputs": [
        {
          "output_type": "stream",
          "name": "stdout",
          "text": [
            "test string\n"
          ]
        }
      ]
    },
    {
      "cell_type": "code",
      "source": [
        "test1 = 'Veni, Vedi, Vici'\n",
        "test2 = 'Memento mori'\n",
        "test3 = 'Dum Spiro, Spero'"
      ],
      "metadata": {
        "id": "JE98NWHSaUwB"
      },
      "execution_count": null,
      "outputs": []
    },
    {
      "cell_type": "code",
      "source": [
        "print(f'''\n",
        "Цезарь шифр:\n",
        "    {caesar_chipper(test1,3)},\n",
        "    {caesar_chipper(test2,3)},\n",
        "    {caesar_chipper(test3,3)},\n",
        "\n",
        "Цезарь расшифровка:\n",
        "    {caesar_dechipper(caesar_chipper(test1,3),3)},\n",
        "    {caesar_dechipper(caesar_chipper(test2,3),3)},\n",
        "    {caesar_dechipper(caesar_chipper(test3,3),3)},\n",
        "\n",
        "Атбаш шифр:\n",
        "    {atbash(test1)},\n",
        "    {atbash(test2)},\n",
        "    {atbash(test3)},\n",
        "Атбаш расшифровка:\n",
        "    {atbash(atbash(test1))},\n",
        "    {atbash(atbash(test2))},\n",
        "    {atbash(atbash(test3))}\n",
        "    '''\n",
        ")"
      ],
      "metadata": {
        "colab": {
          "base_uri": "https://localhost:8080/"
        },
        "id": "nKgDJJtNS2Mf",
        "outputId": "154e7e2a-ab80-401e-d584-d9e4ee5dc6df"
      },
      "execution_count": null,
      "outputs": [
        {
          "output_type": "stream",
          "name": "stdout",
          "text": [
            "\n",
            "Цезарь шифр:\n",
            "    Yhql, Yhgl, Ylfl,\n",
            "    Phphqwr prul,\n",
            "    Gxp Vslur, Vshur,\n",
            "\n",
            "Цезарь расшифровка:\n",
            "    Veni, Vedi, Vici,\n",
            "    Memento mori,\n",
            "    Dum Spiro, Spero,\n",
            "\n",
            "Атбаш шифр:\n",
            "    Evmr, Evwr, Erxr,\n",
            "    Nvnvmgl nlir,\n",
            "    Wfn Hkril, Hkvil,\n",
            "Атбаш расшифровка:\n",
            "    Veni, Vedi, Vici,\n",
            "    Memento mori,\n",
            "    Dum Spiro, Spero\n",
            "    \n"
          ]
        }
      ]
    }
  ]
}