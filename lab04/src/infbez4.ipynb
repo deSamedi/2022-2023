{
  "nbformat": 4,
  "nbformat_minor": 0,
  "metadata": {
    "colab": {
      "provenance": []
    },
    "kernelspec": {
      "name": "python3",
      "display_name": "Python 3"
    },
    "language_info": {
      "name": "python"
    }
  },
  "cells": [
    {
      "cell_type": "code",
      "source": [
        "from copy import copy"
      ],
      "metadata": {
        "id": "C3op1onwLD3_"
      },
      "execution_count": null,
      "outputs": []
    },
    {
      "cell_type": "code",
      "execution_count": null,
      "metadata": {
        "id": "GolcXW4RHr0Z"
      },
      "outputs": [],
      "source": [
        "def euclid(a,b):\n",
        "  r = [a,b]\n",
        "  i = 1\n",
        "  while True:\n",
        "    r_new = r[-2]%r[-1]\n",
        "    if r_new == 0:\n",
        "      return r[-1]\n",
        "    else:\n",
        "      i+=1\n",
        "      r.append(r_new)"
      ]
    },
    {
      "cell_type": "code",
      "source": [
        "def euclid_bin(a,b):\n",
        "  g = 1\n",
        "  while a%2==0 and b%2==0:\n",
        "    a = a/2\n",
        "    b = b/2\n",
        "    g = 2*g\n",
        "\n",
        "  u = copy(a)\n",
        "  v = copy(b)\n",
        "  while u!=0:\n",
        "    if u%2==0:\n",
        "      u=u/2\n",
        "    if v%2==0:\n",
        "      v=v/2\n",
        "    if u>=v:\n",
        "      u = u-v\n",
        "    else:\n",
        "      v = v-u\n",
        "  return g*v"
      ],
      "metadata": {
        "id": "60I6yfx9J3UC"
      },
      "execution_count": null,
      "outputs": []
    },
    {
      "cell_type": "code",
      "source": [
        "def euclid_ext(a,b):\n",
        "  r = [a,b]\n",
        "  x = [1,0]\n",
        "  y = [0,1]\n",
        "  i = 1\n",
        "  while True:\n",
        "    q = r[-2]//r[-1]\n",
        "    r_new = r[-2]%r[-1]\n",
        "    if r_new==0:\n",
        "      return r[-1], x[-1], y[-1]\n",
        "    else:\n",
        "      x.append(x[-2]-q*x[-1])\n",
        "      y.append(y[-2]-q*y[-1])\n",
        "      r.append(r_new)\n",
        "      i+=1\n"
      ],
      "metadata": {
        "id": "Dmhxdj23MgUp"
      },
      "execution_count": null,
      "outputs": []
    },
    {
      "cell_type": "code",
      "source": [
        "def euclid_ext_bin(a,b):\n",
        "  g = 1\n",
        "  while a%2==0 and b%2==0:\n",
        "    a = a/2\n",
        "    b = b/2\n",
        "    g = 2*g\n",
        "\n",
        "  u = copy(a)\n",
        "  v = copy(b)\n",
        "  A = 1\n",
        "  B = 0\n",
        "  C = 0\n",
        "  D = 1\n",
        "  while u!=0:\n",
        "    if u%2==0:\n",
        "      u=u/2\n",
        "      if A%2==0 and B%2==0:\n",
        "        A = A/2\n",
        "        B = B/2\n",
        "      else:\n",
        "        A = (A+b)/2\n",
        "        B = (B-a)/2\n",
        "    if v%2==0:\n",
        "      v=v/2\n",
        "      if C%2==0 and D%2==0:\n",
        "        C = C/2\n",
        "        D = D/2\n",
        "      else:\n",
        "        C = (C+b)/2\n",
        "        D = (D-a)/2\n",
        "    if u>=v:\n",
        "      u = u-v\n",
        "      A = A-C\n",
        "      B = B-D\n",
        "    else:\n",
        "      v = v-u\n",
        "      C = C-A\n",
        "      D = D-B\n",
        "  return g*v, C, D"
      ],
      "metadata": {
        "id": "KH7Lj7a6OpN6"
      },
      "execution_count": null,
      "outputs": []
    },
    {
      "cell_type": "code",
      "source": [
        "euclid(2468,1234),euclid_bin(2468,1234),euclid_ext(2468,1234),euclid_ext_bin(2468,1234)"
      ],
      "metadata": {
        "colab": {
          "base_uri": "https://localhost:8080/"
        },
        "id": "vu9uQovTL5k5",
        "outputId": "31231079-12f0-432c-e069-2780bc794b8a"
      },
      "execution_count": null,
      "outputs": [
        {
          "output_type": "execute_result",
          "data": {
            "text/plain": [
              "(1234, 1234.0, (1234, 0, 1), (1234.0, 0, 1))"
            ]
          },
          "metadata": {},
          "execution_count": 10
        }
      ]
    },
    {
      "cell_type": "code",
      "source": [
        "euclid(2468,51)"
      ],
      "metadata": {
        "colab": {
          "base_uri": "https://localhost:8080/"
        },
        "id": "UCMALDoIJOf-",
        "outputId": "6cd0c058-16b5-4faf-bbf9-1e003cc36bc8"
      },
      "execution_count": null,
      "outputs": [
        {
          "output_type": "execute_result",
          "data": {
            "text/plain": [
              "1"
            ]
          },
          "metadata": {},
          "execution_count": 6
        }
      ]
    },
    {
      "cell_type": "code",
      "source": [
        "euclid_bin(24,12)"
      ],
      "metadata": {
        "colab": {
          "base_uri": "https://localhost:8080/"
        },
        "id": "uJd835FdKllX",
        "outputId": "7f437871-21a3-415b-b9ce-d56b45ad0fad"
      },
      "execution_count": null,
      "outputs": [
        {
          "output_type": "execute_result",
          "data": {
            "text/plain": [
              "12.0"
            ]
          },
          "metadata": {},
          "execution_count": 7
        }
      ]
    },
    {
      "cell_type": "code",
      "source": [
        "euclid_ext(27,6)"
      ],
      "metadata": {
        "colab": {
          "base_uri": "https://localhost:8080/"
        },
        "id": "XBX2MIYoNzpj",
        "outputId": "7a0405be-d188-4de6-9e3b-3d853f9f1069"
      },
      "execution_count": null,
      "outputs": [
        {
          "output_type": "execute_result",
          "data": {
            "text/plain": [
              "(3, 1, -4)"
            ]
          },
          "metadata": {},
          "execution_count": 8
        }
      ]
    },
    {
      "cell_type": "code",
      "source": [
        "euclid_ext_bin(27,6)"
      ],
      "metadata": {
        "id": "R_NDcdntP-IO",
        "outputId": "b8f523d2-4faa-4a2c-929a-f56d3381a783",
        "colab": {
          "base_uri": "https://localhost:8080/"
        }
      },
      "execution_count": null,
      "outputs": [
        {
          "output_type": "execute_result",
          "data": {
            "text/plain": [
              "(3.0, 3.0, -13.0)"
            ]
          },
          "metadata": {},
          "execution_count": 9
        }
      ]
    }
  ]
}