{
  "nbformat": 4,
  "nbformat_minor": 0,
  "metadata": {
    "colab": {
      "provenance": []
    },
    "kernelspec": {
      "name": "python3",
      "display_name": "Python 3"
    },
    "language_info": {
      "name": "python"
    }
  },
  "cells": [
    {
      "cell_type": "code",
      "source": [
        "from random import random,randrange"
      ],
      "metadata": {
        "id": "rnreci_M1TjT"
      },
      "execution_count": 39,
      "outputs": []
    },
    {
      "cell_type": "code",
      "execution_count": 40,
      "metadata": {
        "id": "Ehm0238p0U-D"
      },
      "outputs": [],
      "source": [
        "def ferma(n):\n",
        "  if n%2!=0 and n>=5:\n",
        "    None\n",
        "  else:\n",
        "    return f'Число {n} составное'\n",
        "  a = int(2+(n-4)*random())\n",
        "  r = (a**(n-1))%n\n",
        "  if r==1:\n",
        "    return f'Число {n}, вероятно, простое'\n",
        "  else:\n",
        "    return f'Число {n} составное'"
      ]
    },
    {
      "cell_type": "code",
      "source": [
        "def jacobi(n,a):\n",
        "  if n>=3 and n%2!=0 and a>=0 and a<=n:\n",
        "    None\n",
        "  else:\n",
        "    return 'error'\n",
        "  g = 1\n",
        "  while a!=0:\n",
        "    while a%2==0:\n",
        "      a/=2\n",
        "      r = n % 8\n",
        "      if r==3 or r==5:\n",
        "        g=-g\n",
        "    a,n = n,a\n",
        "    if a%4 == n%4 == 3:\n",
        "      g = -g\n",
        "    a %= n\n",
        "  if n==1:\n",
        "    return g\n",
        "  else:\n",
        "    return 0  "
      ],
      "metadata": {
        "id": "HaMykBbf3jrQ"
      },
      "execution_count": 41,
      "outputs": []
    },
    {
      "cell_type": "code",
      "source": [
        "jacobi(11,3)"
      ],
      "metadata": {
        "colab": {
          "base_uri": "https://localhost:8080/"
        },
        "id": "FgiPVySaASUn",
        "outputId": "8e923a3d-7f60-4537-a5bb-4731dea07603"
      },
      "execution_count": 42,
      "outputs": [
        {
          "output_type": "execute_result",
          "data": {
            "text/plain": [
              "1"
            ]
          },
          "metadata": {},
          "execution_count": 42
        }
      ]
    },
    {
      "cell_type": "code",
      "source": [
        "def modulo(base, exponent, mod):\n",
        "  x = 1\n",
        "  y = base\n",
        "  while (exponent>0):\n",
        "    if exponent%2==1:\n",
        "      x = (x*y)%mod\n",
        "    y = (y*y)%mod\n",
        "    exponent /= 2\n",
        "  return x%mod"
      ],
      "metadata": {
        "id": "ToFRld1AIO6q"
      },
      "execution_count": 43,
      "outputs": []
    },
    {
      "cell_type": "code",
      "source": [
        "def sol(n):\n",
        "  if n%2==1 and n>=5:\n",
        "    None\n",
        "  else:\n",
        "    return f'Число {n} составное'\n",
        "  a = randrange(n-1)+1\n",
        "  r = modulo(a,(n-1)/2,n)\n",
        "  s = n+jacobi(n,a)\n",
        "  if s==0 or r!=s:\n",
        "    return f'Число {n} составное'\n",
        "  else:\n",
        "    return f'Число {n}, вероятно, простое'\n"
      ],
      "metadata": {
        "id": "jpFgkqGd-r0p"
      },
      "execution_count": 44,
      "outputs": []
    },
    {
      "cell_type": "code",
      "source": [
        "sol(71)"
      ],
      "metadata": {
        "colab": {
          "base_uri": "https://localhost:8080/",
          "height": 35
        },
        "id": "TtEyCIiHHRvT",
        "outputId": "62e04257-1955-45bb-946b-f31d09796302"
      },
      "execution_count": 45,
      "outputs": [
        {
          "output_type": "execute_result",
          "data": {
            "text/plain": [
              "'Число 71, вероятно, простое'"
            ],
            "application/vnd.google.colaboratory.intrinsic+json": {
              "type": "string"
            }
          },
          "metadata": {},
          "execution_count": 45
        }
      ]
    },
    {
      "cell_type": "code",
      "source": [
        "def miller(n):\n",
        "  if n%2!=0 and n>=5:\n",
        "    None\n",
        "  else:\n",
        "    return f'Число {n} составное'\n",
        "  r, s = 0, n-1\n",
        "  while s%2==0:\n",
        "    r+=1\n",
        "    s//=2\n",
        "  a = randrange(2, n-1)\n",
        "  x = pow(a, s ,n)\n",
        "  if x == 1 or x == n-1:\n",
        "    None\n",
        "  for _ in range(r-1):\n",
        "    x = pow(x, 2, n)\n",
        "    if x==n-1:\n",
        "      break\n",
        "    else:\n",
        "      return f'Число {n} составное2'\n",
        "  return f'Число {n}, вероятно, простое'\n",
        "  "
      ],
      "metadata": {
        "id": "463i0v8EJa8a"
      },
      "execution_count": 46,
      "outputs": []
    },
    {
      "cell_type": "code",
      "source": [
        "ferma(71),sol(71),miller(71)"
      ],
      "metadata": {
        "colab": {
          "base_uri": "https://localhost:8080/"
        },
        "id": "7LNqqTZbKwra",
        "outputId": "166e456f-5140-4b36-e42f-4b33f4932791"
      },
      "execution_count": 47,
      "outputs": [
        {
          "output_type": "execute_result",
          "data": {
            "text/plain": [
              "('Число 71, вероятно, простое',\n",
              " 'Число 71, вероятно, простое',\n",
              " 'Число 71, вероятно, простое')"
            ]
          },
          "metadata": {},
          "execution_count": 47
        }
      ]
    }
  ]
}